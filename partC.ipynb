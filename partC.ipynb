{
 "cells": [
  {
   "cell_type": "markdown",
   "metadata": {},
   "source": [
    "### 3. Διάγραμμα Voronoi - Τριγωνοποίηση Delaunay"
   ]
  },
  {
   "cell_type": "code",
   "execution_count": 2,
   "metadata": {},
   "outputs": [
    {
     "data": {
      "application/vnd.jupyter.widget-view+json": {
       "model_id": "88f5dd714e864e36aaa1cf6657afb983",
       "version_major": 2,
       "version_minor": 0
      },
      "text/plain": [
       "VBox(children=(Checkbox(value=False, description='Show Voronoi'), Checkbox(value=False, description='Show Dela…"
      ]
     },
     "metadata": {},
     "output_type": "display_data"
    }
   ],
   "source": [
    "import numpy as np\n",
    "from scipy.spatial import Voronoi, voronoi_plot_2d, Delaunay\n",
    "import matplotlib.pyplot as plt\n",
    "import ipywidgets as widgets\n",
    "from IPython.display import display\n",
    "import matplotlib.colors as mcolors\n",
    "from copy import copy\n",
    "\n",
    "def generate_points(n, seed=0):\n",
    "    rng = np.random.default_rng(seed)\n",
    "    points_set = set()\n",
    "    while len(points_set) < n:\n",
    "        point = tuple(rng.integers(0, 25, 2))\n",
    "        points_set.add(point)\n",
    "    return np.array(list(points_set))\n",
    "\n",
    "points = generate_points(15, seed=100)\n",
    "vor = Voronoi(points)\n",
    "dlny = Delaunay(points)\n",
    "\n",
    "# Generate a color map\n",
    "n_colors = len(dlny.simplices)\n",
    "colors = plt.cm.rainbow(np.linspace(0, 1, n_colors))\n",
    "# colors[:, 3] = 0.5\n",
    "np.random.shuffle(colors)\n",
    "\n",
    "def circumcenter(simplex):\n",
    "    \"\"\"Calculate the circumcenter of a triangle.\"\"\"\n",
    "    pts = points[simplex]\n",
    "    a, b, c = pts\n",
    "    d = 2 * (a[0] * (b[1] - c[1]) + b[0] * (c[1] - a[1]) + c[0] * (a[1] - b[1]))\n",
    "    ux = ((a[0]**2 + a[1]**2) * (b[1] - c[1]) + (b[0]**2 + b[1]**2) * (c[1] - a[1]) + (c[0]**2 + c[1]**2) * (a[1] - b[1])) / d\n",
    "    uy = ((a[0]**2 + a[1]**2) * (c[0] - b[0]) + (b[0]**2 + b[1]**2) * (a[0] - c[0]) + (c[0]**2 + c[1]**2) * (b[0] - a[0])) / d\n",
    "    return np.array([ux, uy])\n",
    "circles = []\n",
    "for i, simplex in enumerate(dlny.simplices):\n",
    "    center = circumcenter(simplex)\n",
    "    triangle = points[simplex]\n",
    "    radius = np.linalg.norm(center - triangle[0])\n",
    "    circles.append(plt.Circle(center, radius, fill=False, color=colors[i], linestyle='-',linewidth=1))\n",
    "\n",
    "def plot_diagram(show_voronoi, show_delaunay, show_circumcircles):\n",
    "    plt.close(\"all\")\n",
    "    # l = plt.cla()\n",
    "    # plt.clf()\n",
    "    fig, ax = plt.subplots(figsize=(10, 10))\n",
    "    if show_voronoi:\n",
    "        voronoi_plot_2d(vor, ax=ax, show_vertices=False, line_colors='black', line_width=1, line_alpha=0.8, point_size=0)\n",
    "        for i, vertex in enumerate(vor.vertices):\n",
    "            ax.plot(vertex[0], vertex[1], 'o', color='black', markerfacecolor=colors[i], markersize=5)\n",
    "        \n",
    "\n",
    "    if show_delaunay:\n",
    "        for i, simplex in enumerate(dlny.simplices):\n",
    "            triangle = points[simplex]\n",
    "            ax.fill(triangle[:, 0], triangle[:, 1], color=colors[i]) \n",
    "            if not show_voronoi:\n",
    "                centroid = np.mean(triangle, axis=0)\n",
    "        ax.triplot(points[:, 0], points[:, 1], dlny.simplices, color='black', linewidth=1, alpha=0.8)\n",
    "\n",
    "    if show_circumcircles:\n",
    "        for i, simplex in enumerate(dlny.simplices):\n",
    "            # if circles[i].figure is not None:\n",
    "                # print(\"Removing circle\")\n",
    "                # plt.close(circles[i].figure)\n",
    "                # circles[i].figure = None\n",
    "            ax.add_patch(copy(circles[i]))\n",
    "            # ax.plot(center[0], center[1], 'ro', markersize=4)  # Plot center in red\n",
    "    # Plot the original points\n",
    "    ax.plot(points[:, 0], points[:, 1], 'ko', markersize=6)\n",
    "\n",
    "    # Set plot limits\n",
    "    min_x = min(vor.vertices[:, 0].min(), points[:, 0].min())\n",
    "    max_x = max(vor.vertices[:, 0].max(), points[:, 0].max())\n",
    "    min_y = min(vor.vertices[:, 1].min(), points[:, 1].min())\n",
    "    max_y = max(vor.vertices[:, 1].max(), points[:, 1].max())\n",
    "    plt.xlim(min_x - 1.5, max_x + 1.5)\n",
    "    plt.ylim(min_y - 1.5, max_y + 1.5)\n",
    "    \n",
    "    ax.set_title(\"Voronoi Diagram and Delaunay Triangulation\")\n",
    "    ax.set_aspect('equal')\n",
    "    plt.show()\n",
    "\n",
    "# Create checkbox widgets\n",
    "voronoi_checkbox = widgets.Checkbox(value=False, description='Show Voronoi')\n",
    "delaunay_checkbox = widgets.Checkbox(value=False, description='Show Delaunay')\n",
    "circumcircles_checkbox = widgets.Checkbox(value=False, description='Show Circumcircles')\n",
    "# Create an interactive output\n",
    "interactive_output = widgets.interactive_output(\n",
    "    plot_diagram, \n",
    "    {'show_voronoi': voronoi_checkbox,\n",
    "     'show_delaunay': delaunay_checkbox,\n",
    "     'show_circumcircles': circumcircles_checkbox}\n",
    "\n",
    ")\n",
    "\n",
    "# Display the widgets and the output\n",
    "display(widgets.VBox([voronoi_checkbox, delaunay_checkbox, circumcircles_checkbox, interactive_output]),clear=True)\n"
   ]
  },
  {
   "cell_type": "markdown",
   "metadata": {},
   "source": [
    "Στο παραπάνω γράφημα φαίνεται η σχέση δυΐσμου μεταξύ των διαγραμμάτων, επίσης φαίνονται και οι περιγρεγραμμένοι κενοι κύκλοι που ορίζουν τα τρίγων Delaunay. Τα χρώματα των τριγώνων αντιστοιχούν στις χρωματισμένες κορυφές Voronoi (η κορυφη μπορεί αν βρίσκεται εκτός τριγώνου, αυτό έχει αν κάνει με το σχήμα του, γι'αυτο τα διακρίνουμε απο το χρώμα). Οι αλγόριθμοι, αν πρόκειται για αυξητικούς έχουν μέση χρονική πολυπλοκότητα O(nlogn) και χείριστη O(n^2). Το n δηλώνει το πλήθος των σημείων, συνεπώς η αύξηση τους προκαλεί αύξηση στον χρόνο εκτέλεσης τους."
   ]
  }
 ],
 "metadata": {
  "kernelspec": {
   "display_name": "venv",
   "language": "python",
   "name": "python3"
  },
  "language_info": {
   "codemirror_mode": {
    "name": "ipython",
    "version": 3
   },
   "file_extension": ".py",
   "mimetype": "text/x-python",
   "name": "python",
   "nbconvert_exporter": "python",
   "pygments_lexer": "ipython3",
   "version": "3.12.5"
  }
 },
 "nbformat": 4,
 "nbformat_minor": 2
}
